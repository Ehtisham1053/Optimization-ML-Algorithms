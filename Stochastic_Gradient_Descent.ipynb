{
  "nbformat": 4,
  "nbformat_minor": 0,
  "metadata": {
    "colab": {
      "provenance": [],
      "authorship_tag": "ABX9TyNkR2rS04jtBBNSBmv+vlD9",
      "include_colab_link": true
    },
    "kernelspec": {
      "name": "python3",
      "display_name": "Python 3"
    },
    "language_info": {
      "name": "python"
    }
  },
  "cells": [
    {
      "cell_type": "markdown",
      "metadata": {
        "id": "view-in-github",
        "colab_type": "text"
      },
      "source": [
        "<a href=\"https://colab.research.google.com/github/Ehtisham1053/Optimization-ML-Algorithms/blob/main/Stochastic_Gradient_Descent.ipynb\" target=\"_parent\"><img src=\"https://colab.research.google.com/assets/colab-badge.svg\" alt=\"Open In Colab\"/></a>"
      ]
    },
    {
      "cell_type": "code",
      "execution_count": 5,
      "metadata": {
        "id": "_819NAxG6MzW"
      },
      "outputs": [],
      "source": [
        "import pandas as pd\n",
        "import numpy as np\n",
        "from sklearn.model_selection import train_test_split\n",
        "from sklearn.preprocessing import OneHotEncoder, StandardScaler\n",
        "from sklearn.compose import ColumnTransformer"
      ]
    },
    {
      "cell_type": "code",
      "source": [
        "df = pd.read_csv('audi.csv')\n",
        "x = df.drop('price', axis=1)\n",
        "y = df['price']\n",
        "x_train, x_test, y_train, y_test = train_test_split(x, y, test_size=0.2, random_state=42)\n",
        "c = ColumnTransformer([('encoder', OneHotEncoder(handle_unknown='ignore' , sparse_output=False , drop='first'), ['transmission', 'fuelType', 'model']),\n",
        "                       ('scaler', StandardScaler(), ['mileage', 'tax', 'mpg', 'engineSize', 'year'])\n",
        "\n",
        "                       ], remainder='passthrough')\n",
        "\n",
        "x_train = c.fit_transform(x_train)\n",
        "x_test = c.transform(x_test)"
      ],
      "metadata": {
        "colab": {
          "base_uri": "https://localhost:8080/"
        },
        "id": "kjQfRSrd6RrX",
        "outputId": "40707885-6452-46a2-96bf-96edec47e903"
      },
      "execution_count": 6,
      "outputs": [
        {
          "output_type": "stream",
          "name": "stderr",
          "text": [
            "/usr/local/lib/python3.11/dist-packages/sklearn/preprocessing/_encoders.py:246: UserWarning: Found unknown categories in columns [2] during transform. These unknown categories will be encoded as all zeros\n",
            "  warnings.warn(\n"
          ]
        }
      ]
    },
    {
      "cell_type": "code",
      "source": [
        "import numpy as np\n",
        "\n",
        "class StochasticGradientDescent:\n",
        "    def __init__(self, learning_rate=0.01, epochs=1000):\n",
        "        self.learning_rate = learning_rate\n",
        "        self.epochs = epochs\n",
        "        self.m = None\n",
        "        self.b = None\n",
        "\n",
        "    def fit(self, X, y):\n",
        "        # X = X.to_numpy()\n",
        "        y= y.to_numpy()\n",
        "\n",
        "        n_samples, n_features = X.shape\n",
        "        self.m = np.zeros(n_features)\n",
        "        self.b = 0\n",
        "\n",
        "        for _ in range(self.epochs):\n",
        "            for i in range(n_samples):\n",
        "                y_pred = np.dot(X[i], self.m) + self.b\n",
        "                error = y_pred - y[i]\n",
        "\n",
        "                # Compute gradients for a single sample\n",
        "                dm = X[i] * error\n",
        "                db = error\n",
        "\n",
        "\n",
        "                self.m -= self.learning_rate * dm\n",
        "                self.b -= self.learning_rate * db\n",
        "\n",
        "    def predict(self, X):\n",
        "        return np.dot(X, self.m) + self.b\n",
        "\n",
        "    def mse(self, X, y):\n",
        "        return np.mean((self.predict(X) - y) ** 2)\n",
        "\n",
        "    def mae(self, X, y):\n",
        "        return np.mean(np.abs(self.predict(X) - y))\n",
        "\n",
        "    def rmse(self, X, y):\n",
        "        return np.sqrt(self.mse(X, y))\n",
        "\n",
        "    def r2_score(self, X, y):\n",
        "        y_mean = np.mean(y)\n",
        "        ss_total = np.sum((y - y_mean) ** 2)\n",
        "        ss_residual = np.sum((y - self.predict(X)) ** 2)\n",
        "        return 1 - (ss_residual / ss_total)\n",
        "\n",
        "    def adjusted_r2(self, X, y):\n",
        "        n, k = X.shape\n",
        "        r2 = self.r2_score(X, y)\n",
        "        return 1 - ((1 - r2) * (n - 1) / (n - k - 1))\n"
      ],
      "metadata": {
        "id": "ZtxDDise6SZe"
      },
      "execution_count": 11,
      "outputs": []
    },
    {
      "cell_type": "code",
      "source": [
        "model = StochasticGradientDescent(learning_rate=0.1, epochs=1000)\n",
        "model.fit(x_train, y_train)\n",
        "y_pred = model.predict(x_test)\n",
        "\n",
        "print(\"MSE:\", model.mse(x_test, y_test))\n",
        "print(\"MAE:\", model.mae(x_test, y_test))\n",
        "print(\"RMSE:\", model.rmse(x_test, y_test))\n",
        "print(\"R² Score:\", model.r2_score(x_test, y_test))\n",
        "print(\"Adjusted R² Score:\", model.adjusted_r2(x_test, y_test))\n"
      ],
      "metadata": {
        "colab": {
          "base_uri": "https://localhost:8080/"
        },
        "id": "jwJ1qr2E6f4f",
        "outputId": "f3f5d49e-7610-43f8-9bb3-7aa25cafed49"
      },
      "execution_count": 12,
      "outputs": [
        {
          "output_type": "stream",
          "name": "stdout",
          "text": [
            "MSE: 24707862.106628567\n",
            "MAE: 3391.789984154302\n",
            "RMSE: 4970.70036379468\n",
            "R² Score: 0.83651198296297\n",
            "Adjusted R² Score: 0.8339428855523882\n"
          ]
        }
      ]
    },
    {
      "cell_type": "markdown",
      "source": [
        "#Stochastic Gradient Descent (SGD)\n",
        "Stochastic Gradient Descent updates the model parameters after each individual training sample rather than waiting for the entire dataset. This results in a faster update process but introduces noise, leading to a more erratic convergence path.\n",
        "\n",
        "##When to Use:\n",
        "SGD is best for very large datasets where loading the entire dataset at once is not feasible. It is useful when training models on real-time or online data streams and when some level of randomness is acceptable to escape local minima.\n",
        "\n",
        "##Advantages:\n",
        "* Faster updates, making it more suitable for large-scale and real-time learning.\n",
        "* Can escape shallow local minima due to its randomness, which helps in non-convex problems.\n",
        "* Works well when computational power is limited.\n",
        "\n",
        "##Disadvantages:\n",
        "* High variance in updates, leading to an unstable path toward convergence.\n",
        "* Might never fully converge to the optimal solution due to excessive fluctuations.\n",
        "* Requires careful tuning of the learning rate to balance speed and accuracy."
      ],
      "metadata": {
        "id": "aKXjHmwg-ggL"
      }
    },
    {
      "cell_type": "code",
      "source": [],
      "metadata": {
        "id": "xwEbx7Be7DnG"
      },
      "execution_count": null,
      "outputs": []
    }
  ]
}