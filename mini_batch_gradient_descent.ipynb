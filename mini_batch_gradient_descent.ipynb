{
  "nbformat": 4,
  "nbformat_minor": 0,
  "metadata": {
    "colab": {
      "provenance": [],
      "authorship_tag": "ABX9TyOLJBjiHC9nt3iiSJ38+V4R",
      "include_colab_link": true
    },
    "kernelspec": {
      "name": "python3",
      "display_name": "Python 3"
    },
    "language_info": {
      "name": "python"
    }
  },
  "cells": [
    {
      "cell_type": "markdown",
      "metadata": {
        "id": "view-in-github",
        "colab_type": "text"
      },
      "source": [
        "<a href=\"https://colab.research.google.com/github/Ehtisham1053/Optimization-ML-Algorithms/blob/main/mini_batch_gradient_descent.ipynb\" target=\"_parent\"><img src=\"https://colab.research.google.com/assets/colab-badge.svg\" alt=\"Open In Colab\"/></a>"
      ]
    },
    {
      "cell_type": "code",
      "source": [
        "import pandas as pd\n",
        "import numpy as np\n",
        "from sklearn.model_selection import train_test_split\n",
        "from sklearn.preprocessing import OneHotEncoder, StandardScaler\n",
        "from sklearn.compose import ColumnTransformer"
      ],
      "metadata": {
        "id": "SsMDo_Sj8gxY"
      },
      "execution_count": 1,
      "outputs": []
    },
    {
      "cell_type": "code",
      "source": [
        "df = pd.read_csv('audi.csv')\n",
        "x = df.drop('price', axis=1)\n",
        "y = df['price']\n",
        "x_train, x_test, y_train, y_test = train_test_split(x, y, test_size=0.2, random_state=42)\n",
        "c = ColumnTransformer([('encoder', OneHotEncoder(handle_unknown='ignore' , sparse_output=False , drop='first'), ['transmission', 'fuelType', 'model']),\n",
        "                       ('scaler', StandardScaler(), ['mileage', 'tax', 'mpg', 'engineSize', 'year'])\n",
        "\n",
        "                       ], remainder='passthrough')\n",
        "\n",
        "x_train = c.fit_transform(x_train)\n",
        "x_test = c.transform(x_test)"
      ],
      "metadata": {
        "colab": {
          "base_uri": "https://localhost:8080/"
        },
        "id": "5ZnIl0_38gjj",
        "outputId": "011de8d8-c138-4f6f-907d-4e896b204780"
      },
      "execution_count": 2,
      "outputs": [
        {
          "output_type": "stream",
          "name": "stderr",
          "text": [
            "/usr/local/lib/python3.11/dist-packages/sklearn/preprocessing/_encoders.py:246: UserWarning: Found unknown categories in columns [2] during transform. These unknown categories will be encoded as all zeros\n",
            "  warnings.warn(\n"
          ]
        }
      ]
    },
    {
      "cell_type": "code",
      "execution_count": 5,
      "metadata": {
        "id": "hj8znPl68bMZ"
      },
      "outputs": [],
      "source": [
        "import numpy as np\n",
        "\n",
        "class MiniBatchGradientDescent:\n",
        "    def __init__(self, learning_rate=0.01, epochs=1000, batch_size=10):\n",
        "        self.learning_rate = learning_rate\n",
        "        self.epochs = epochs\n",
        "        self.batch_size = batch_size\n",
        "        self.m = None\n",
        "        self.b = None\n",
        "\n",
        "    def fit(self, X, y):\n",
        "        y= y.to_numpy()\n",
        "        n_samples, n_features = X.shape\n",
        "        self.m = np.zeros(n_features)\n",
        "        self.b = 0\n",
        "\n",
        "        for _ in range(self.epochs):\n",
        "            indices = np.random.permutation(n_samples)\n",
        "            X_shuffled = X[indices]\n",
        "            y_shuffled = y[indices]\n",
        "\n",
        "            for i in range(0, n_samples, self.batch_size):\n",
        "                X_batch = X_shuffled[i:i+self.batch_size]\n",
        "                y_batch = y_shuffled[i:i+self.batch_size]\n",
        "\n",
        "                y_pred = np.dot(X_batch, self.m) + self.b\n",
        "                error = y_pred - y_batch\n",
        "\n",
        "                # Compute gradients\n",
        "                dm = (1/len(y_batch)) * np.dot(X_batch.T, error)\n",
        "                db = (1/len(y_batch)) * np.sum(error)\n",
        "\n",
        "                # Update parameters\n",
        "                self.m -= self.learning_rate * dm\n",
        "                self.b -= self.learning_rate * db\n",
        "\n",
        "    def predict(self, X):\n",
        "        return np.dot(X, self.m) + self.b\n",
        "\n",
        "    def mse(self, X, y):\n",
        "        return np.mean((self.predict(X) - y) ** 2)\n",
        "\n",
        "    def mae(self, X, y):\n",
        "        return np.mean(np.abs(self.predict(X) - y))\n",
        "\n",
        "    def rmse(self, X, y):\n",
        "        return np.sqrt(self.mse(X, y))\n",
        "\n",
        "    def r2_score(self, X, y):\n",
        "        y_mean = np.mean(y)\n",
        "        ss_total = np.sum((y - y_mean) ** 2)\n",
        "        ss_residual = np.sum((y - self.predict(X)) ** 2)\n",
        "        return 1 - (ss_residual / ss_total)\n",
        "\n",
        "    def adjusted_r2(self, X, y):\n",
        "        n, k = X.shape\n",
        "        r2 = self.r2_score(X, y)\n",
        "        return 1 - ((1 - r2) * (n - 1) / (n - k - 1))\n"
      ]
    },
    {
      "cell_type": "code",
      "source": [
        "model = MiniBatchGradientDescent(learning_rate=0.1 , epochs=1000 , batch_size=10)\n",
        "model.fit(x_train, y_train)\n"
      ],
      "metadata": {
        "id": "xA4z-t-Q8u5Y"
      },
      "execution_count": 6,
      "outputs": []
    },
    {
      "cell_type": "code",
      "source": [
        "y_pred = model.predict(x_test)\n",
        "\n",
        "print(\"MSE:\", model.mse(x_test, y_test))\n",
        "print(\"MAE:\", model.mae(x_test, y_test))\n",
        "print(\"RMSE:\", model.rmse(x_test, y_test))\n",
        "print(\"R² Score:\", model.r2_score(x_test, y_test))\n",
        "print(\"Adjusted R² Score:\", model.adjusted_r2(x_test, y_test))"
      ],
      "metadata": {
        "colab": {
          "base_uri": "https://localhost:8080/"
        },
        "id": "klyxsGkM83l4",
        "outputId": "9508110c-5c39-41a3-da3f-24f652281924"
      },
      "execution_count": 8,
      "outputs": [
        {
          "output_type": "stream",
          "name": "stdout",
          "text": [
            "MSE: 20666018.694263145\n",
            "MAE: 3102.1328874537426\n",
            "RMSE: 4545.98929764063\n",
            "R² Score: 0.8632562217728721\n",
            "Adjusted R² Score: 0.86110739097216\n"
          ]
        }
      ]
    },
    {
      "cell_type": "markdown",
      "source": [
        "# Mini-Batch Gradient Descent (MBGD)\n",
        "Mini-Batch Gradient Descent is a middle ground between BGD and SGD. Instead of computing gradients using the entire dataset (like BGD) or a single sample (like SGD), it updates parameters using a small subset (mini-batch) of the dataset at each iteration.\n",
        "\n",
        "##When to Use:\n",
        "MBGD is suitable when the dataset is too large for BGD but still needs a more stable update process than SGD. It is widely used in deep learning and large-scale machine learning applications where a balance between speed and accuracy is needed.\n",
        "\n",
        "##Advantages:\n",
        "Faster than BGD and more stable than SGD.\n",
        "Can leverage GPU acceleration efficiently by processing mini-batches in parallel.\n",
        "Reduces memory requirements compared to BGD while still achieving smooth convergence.\n",
        "\n",
        "##Disadvantages:\n",
        "Requires tuning the mini-batch size, which affects performance.\n",
        "Can still experience some noise in convergence, though less than SGD.\n",
        "Might not be as fast as SGD when processing individual data points in real-time scenarios."
      ],
      "metadata": {
        "id": "2eC8cUHv_A7Z"
      }
    },
    {
      "cell_type": "code",
      "source": [],
      "metadata": {
        "id": "FhVBhCRC9VF3"
      },
      "execution_count": null,
      "outputs": []
    }
  ]
}